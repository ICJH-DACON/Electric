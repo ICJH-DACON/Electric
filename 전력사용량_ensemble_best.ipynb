{
 "cells": [
  {
   "cell_type": "code",
   "execution_count": 1,
   "id": "1cfc6005",
   "metadata": {},
   "outputs": [
    {
     "name": "stdout",
     "output_type": "stream",
     "text": [
      "오늘 날짜 : 20210614\n"
     ]
    }
   ],
   "source": [
    "import numpy as np\n",
    "import pandas as pd\n",
    "\n",
    "# EDA\n",
    "import matplotlib.pyplot as plt\n",
    "import seaborn as sns\n",
    "\n",
    "# Learning algorithms\n",
    "import sklearn\n",
    "from sklearn.linear_model import *\n",
    "from sklearn.ensemble import RandomForestRegressor\n",
    "\n",
    "from lightgbm import LGBMRegressor\n",
    "from xgboost import XGBRegressor\n",
    "from catboost import CatBoostRegressor\n",
    "\n",
    "import Processor_cat\n",
    "import Processor_xgb\n",
    "import Processor_lgbm\n",
    "import Processor_rand\n",
    "\n",
    "import warnings\n",
    "warnings.filterwarnings('ignore')\n",
    "\n",
    "import datetime\n",
    "today = str(datetime.datetime.now().date()).replace(\"-\",\"\")\n",
    "print(\"오늘 날짜 : \" + today)"
   ]
  },
  {
   "cell_type": "code",
   "execution_count": 2,
   "id": "f3dd49bb",
   "metadata": {},
   "outputs": [],
   "source": [
    "preprocessor_cat = Processor_cat.Preprocessor('../data/train.csv', '../data/test.csv')\n",
    "preprocessor_xgb = Processor_xgb.Preprocessor('../data/train.csv', '../data/test.csv')\n",
    "preprocessor_lgbm = Processor_lgbm.Preprocessor('../data/train.csv', '../data/test.csv')\n",
    "preprocessor_rand = Processor_rand.Preprocessor('../data/train.csv', '../data/test.csv')\n",
    "\n",
    "\n",
    "X_trains_cat, y_trains_cat = preprocessor_cat.train_preprocess()\n",
    "X_trains_xgb, y_trains_xgb = preprocessor_xgb.train_preprocess()\n",
    "X_trains_lgbm, y_trains_lgbm = preprocessor_lgbm.train_preprocess()\n",
    "X_trains_rand, y_trains_rand = preprocessor_rand.train_preprocess()\n",
    "\n",
    "X_tests_cat = preprocessor_cat.test_preprocess()\n",
    "X_tests_xgb = preprocessor_xgb.test_preprocess()\n",
    "X_tests_lgbm = preprocessor_lgbm.test_preprocess()\n",
    "X_tests_rand = preprocessor_rand.test_preprocess()"
   ]
  },
  {
   "cell_type": "code",
   "execution_count": 11,
   "id": "bd444c68",
   "metadata": {},
   "outputs": [
    {
     "name": "stdout",
     "output_type": "stream",
     "text": [
      "5th model complete\n",
      "10th model complete\n",
      "15th model complete\n",
      "20th model complete\n",
      "25th model complete\n",
      "30th model complete\n",
      "35th model complete\n",
      "40th model complete\n",
      "45th model complete\n",
      "50th model complete\n",
      "55th model complete\n",
      "60th model complete\n",
      "3.1035224524140657\n"
     ]
    }
   ],
   "source": [
    "n_folds = 10\n",
    "# cat_models = [[CatBoostRegressor() for i in range(60)] for j in range(n_folds)]\n",
    "xgb_models = [[XGBRegressor() for i in range(60)] for j in range(n_folds)]\n",
    "# lgb_models = [[LGBMRegressor() for i in range(60)] for j in range(n_folds)]\n",
    "# rfr_models = [[RandomForestRegressor() for i in range(60)] for j in range(n_folds)]\n",
    "\n",
    "# cat_cv = Processor_cat.CV_sklearn(cat_models, n_folds = n_folds)\n",
    "xgb_cv = Processor_xgb.CV_sklearn(xgb_models, n_folds = n_folds)\n",
    "# lgb_cv = Processor_lgbm.CV_sklearn(lgb_models, n_folds = n_folds)\n",
    "# rfr_cv = Processor_rand.CV_sklearn(rfr_models, n_folds = n_folds)\n",
    "\n",
    "# scores_lr_cat = cat_cv.train(X_trains_cat, y_trains_cat, verbose = 1)\n",
    "scores_lr_xgb = xgb_cv.train(X_trains_xgb, y_trains_xgb, verbose = 1)\n",
    "# scores_lr_lgb = lgb_cv.train(X_trains_lgbm, y_trains_lgbm, verbose = 1)\n",
    "# scores_lr_rfr = rfr_cv.train(X_trains_rand, y_trains_rand, verbose = 1)\n",
    "\n",
    "# print(np.mean(scores_lr_cat))\n",
    "print(np.mean(scores_lr_xgb))\n",
    "# print(np.mean(scores_lr_lgb))\n",
    "# print(np.mean(scores_lr_rfr))"
   ]
  },
  {
   "cell_type": "code",
   "execution_count": 12,
   "id": "655c4eb8",
   "metadata": {},
   "outputs": [],
   "source": [
    "for idx, test in enumerate(X_tests_cat):\n",
    "    X_tests_cat[idx] = test.interpolate()\n",
    "    \n",
    "for idx, test in enumerate(X_tests_xgb):\n",
    "    X_tests_xgb[idx] = test.interpolate()\n",
    "\n",
    "for idx, test in enumerate(X_tests_lgbm):\n",
    "    X_tests_lgbm[idx] = test.interpolate()\n",
    "\n",
    "for idx, test in enumerate(X_tests_rand):\n",
    "    X_tests_rand[idx] = test.interpolate()"
   ]
  },
  {
   "cell_type": "code",
   "execution_count": 13,
   "id": "7e9ea99f",
   "metadata": {},
   "outputs": [],
   "source": [
    "test_pred = cat_cv.predict(X_tests_cat)\n",
    "test_pred += xgb_cv.predict(X_tests_xgb)\n",
    "test_pred += lgb_cv.predict(X_tests_lgbm)\n",
    "test_pred += rfr_cv.predict(X_tests_rand)"
   ]
  },
  {
   "cell_type": "code",
   "execution_count": 16,
   "id": "92ca6cb6",
   "metadata": {},
   "outputs": [],
   "source": [
    "submission = pd.read_csv('../data/sample_submission.csv')\n",
    "submission['answer'] = test_pred/4\n",
    "\n",
    "submission.to_csv('../submission/'+today+'_ensenble2.csv', index =False)"
   ]
  },
  {
   "cell_type": "markdown",
   "id": "d65fd5ed",
   "metadata": {},
   "source": [
    "# 변수 중요도"
   ]
  },
  {
   "cell_type": "code",
   "execution_count": null,
   "id": "73d6dce3",
   "metadata": {},
   "outputs": [],
   "source": [
    "def plot_feature_importance(importance, names, model_type):\n",
    "    \n",
    "    feature_importance = np.array(importance)\n",
    "    feature_names = np.array(names)\n",
    "    \n",
    "    data={'feature_names':feature_names,'feature_importance':feature_importance}\n",
    "    fi_df = pd.DataFrame(data)\n",
    "    \n",
    "    fi_df.sort_values(by=['feature_importance'], ascending=False,inplace=True)\n",
    "\n",
    "    plt.figure(figsize=(10,8))\n",
    "\n",
    "    sns.barplot(x=fi_df['feature_importance'], y=fi_df['feature_names'])\n",
    "\n",
    "    plt.title(model_type + ' Feature Importance')\n",
    "    plt.xlabel('Feature Importance')\n",
    "    plt.ylabel('Feature Names')"
   ]
  },
  {
   "cell_type": "code",
   "execution_count": null,
   "id": "b7d79e0a",
   "metadata": {},
   "outputs": [],
   "source": [
    "for i in range(60):\n",
    "    plot_feature_importance(cat_cv.models[0][i].get_feature_importance(),X_trains[i].columns,\"CATBOOST\"+str(i))\n",
    "    "
   ]
  },
  {
   "cell_type": "markdown",
   "id": "15d483c8",
   "metadata": {},
   "source": [
    "# 스태킹"
   ]
  },
  {
   "cell_type": "code",
   "execution_count": null,
   "id": "3d339858",
   "metadata": {},
   "outputs": [],
   "source": [
    "from sklearn.model_selection import train_test_split"
   ]
  },
  {
   "cell_type": "code",
   "execution_count": null,
   "id": "ff5e6cef",
   "metadata": {},
   "outputs": [],
   "source": [
    "stacking_model = [XGBRegressor(n_estimators=1000, learning_rate=0.01, max_depth=12) for i in range(60)]\n",
    "\n",
    "for idx, (pred, true) in enumerate(zip(cv_preds, cv_trues)):\n",
    "    X_train,X_test,y_train,y_test = train_test_split(pred,true,test_size=0.2,random_state=1234)\n",
    "    \n",
    "    evals = [(X_test.reshape(-1,1), y_test)]\n",
    "    \n",
    "    stacking_model[idx].fit(X_train.reshape(-1,1), y_train, eval_metric='rmse', eval_set=evals, verbose=True)"
   ]
  },
  {
   "cell_type": "code",
   "execution_count": null,
   "id": "517c6893",
   "metadata": {},
   "outputs": [],
   "source": [
    "fig = plt.figure(figsize = (20, 100))\n",
    "\n",
    "for idx, (pred, true) in enumerate(zip(cv_preds, cv_trues)):\n",
    "    stacking_pred = stacking_model[idx].predict(pred)\n",
    "    \n",
    "    plt.subplot(60,1,idx+1)\n",
    "    plt.plot(true, c = 'red', alpha = 0.6, label = 'true')\n",
    "    plt.plot(stacking_pred, c = 'blue', alpha = 0.6, label = 'stacking_pred')\n",
    "    plt.legend()\n",
    "    plt.title(f'building {idx+1}')\n",
    "    "
   ]
  },
  {
   "cell_type": "code",
   "execution_count": null,
   "id": "a0fe7fe1",
   "metadata": {},
   "outputs": [],
   "source": [
    "test_pred = np.array([np.array([0] * 168) for _ in range(60)]).astype(np.float64)\n",
    "for idx, test in enumerate(X_tests):\n",
    "    for i in range(n_folds):\n",
    "        test_pred[idx] += cv_lr.models[i][idx].predict(test)\n",
    "\n",
    "test_pred /= n_folds"
   ]
  },
  {
   "cell_type": "code",
   "execution_count": null,
   "id": "215044ba",
   "metadata": {},
   "outputs": [],
   "source": [
    "stacking_preds = []\n",
    "\n",
    "for idx, pred in enumerate(test_pred):\n",
    "    stacking_pred = stacking_model[idx].predict(pred)\n",
    "\n",
    "    stacking_preds.append(stacking_pred)\n",
    "\n",
    "\n",
    "stacking_answer = np.conconcatenateate(stacking_preds)"
   ]
  },
  {
   "cell_type": "code",
   "execution_count": null,
   "id": "ddd0079d",
   "metadata": {},
   "outputs": [],
   "source": [
    "submission = pd.read_csv('../data/sample_submission.csv')\n",
    "submission['answer'] = stacking_answer\n",
    "\n",
    "submission.to_csv('../submission/'+today+'_cat_xgb_stacking.csv', index =False)"
   ]
  },
  {
   "cell_type": "code",
   "execution_count": null,
   "id": "e0a632e0",
   "metadata": {},
   "outputs": [],
   "source": []
  }
 ],
 "metadata": {
  "kernelspec": {
   "display_name": "Python 3",
   "language": "python",
   "name": "python3"
  },
  "language_info": {
   "codemirror_mode": {
    "name": "ipython",
    "version": 3
   },
   "file_extension": ".py",
   "mimetype": "text/x-python",
   "name": "python",
   "nbconvert_exporter": "python",
   "pygments_lexer": "ipython3",
   "version": "3.8.8"
  }
 },
 "nbformat": 4,
 "nbformat_minor": 5
}
