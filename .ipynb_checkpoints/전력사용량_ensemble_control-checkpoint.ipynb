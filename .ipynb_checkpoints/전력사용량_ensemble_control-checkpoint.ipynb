{
 "cells": [
  {
   "cell_type": "code",
   "execution_count": 1,
   "id": "1cfc6005",
   "metadata": {},
   "outputs": [
    {
     "name": "stdout",
     "output_type": "stream",
     "text": [
      "오늘 날짜 : 20210614\n"
     ]
    }
   ],
   "source": [
    "import numpy as np\n",
    "import pandas as pd\n",
    "\n",
    "# EDA\n",
    "import matplotlib.pyplot as plt\n",
    "import seaborn as sns\n",
    "\n",
    "# Learning algorithms\n",
    "import sklearn\n",
    "from sklearn.linear_model import *\n",
    "from sklearn.ensemble import RandomForestRegressor\n",
    "\n",
    "from lightgbm import LGBMRegressor\n",
    "from xgboost import XGBRegressor\n",
    "from catboost import CatBoostRegressor\n",
    "\n",
    "import Processor_cat\n",
    "import Processor_xgb\n",
    "import Processor_lgbm\n",
    "import Processor_rand\n",
    "\n",
    "import warnings\n",
    "warnings.filterwarnings('ignore')\n",
    "\n",
    "import datetime\n",
    "today = str(datetime.datetime.now().date()).replace(\"-\",\"\")\n",
    "print(\"오늘 날짜 : \" + today)"
   ]
  },
  {
   "cell_type": "code",
   "execution_count": 2,
   "id": "f3dd49bb",
   "metadata": {},
   "outputs": [],
   "source": [
    "preprocessor_cat = Processor_cat.Preprocessor('../data/train.csv', '../data/test.csv')\n",
    "preprocessor_xgb = Processor_xgb.Preprocessor('../data/train.csv', '../data/test.csv')\n",
    "preprocessor_lgbm = Processor_lgbm.Preprocessor('../data/train.csv', '../data/test.csv')\n",
    "preprocessor_rand = Processor_rand.Preprocessor('../data/train.csv', '../data/test.csv')\n",
    "\n",
    "\n",
    "X_trains_cat, y_trains_cat = preprocessor_cat.train_preprocess()\n",
    "X_trains_xgb, y_trains_xgb = preprocessor_xgb.train_preprocess()\n",
    "X_trains_lgbm, y_trains_lgbm = preprocessor_lgbm.train_preprocess()\n",
    "X_trains_rand, y_trains_rand = preprocessor_rand.train_preprocess()\n",
    "\n",
    "X_tests_cat = preprocessor_cat.test_preprocess()\n",
    "X_tests_xgb = preprocessor_xgb.test_preprocess()\n",
    "X_tests_lgbm = preprocessor_lgbm.test_preprocess()\n",
    "X_tests_rand = preprocessor_rand.test_preprocess()"
   ]
  },
  {
   "cell_type": "code",
   "execution_count": 11,
   "id": "bd444c68",
   "metadata": {},
   "outputs": [
    {
     "name": "stdout",
     "output_type": "stream",
     "text": [
      "5th model complete\n",
      "10th model complete\n",
      "15th model complete\n",
      "20th model complete\n",
      "25th model complete\n",
      "30th model complete\n",
      "35th model complete\n",
      "40th model complete\n",
      "45th model complete\n",
      "50th model complete\n",
      "55th model complete\n",
      "60th model complete\n",
      "3.1035224524140657\n"
     ]
    }
   ],
   "source": [
    "n_folds = 10\n",
    "cat_models = [[CatBoostRegressor() for i in range(60)] for j in range(n_folds)]\n",
    "xgb_models = [[XGBRegressor() for i in range(60)] for j in range(n_folds)]\n",
    "lgb_models = [[LGBMRegressor() for i in range(60)] for j in range(n_folds)]\n",
    "rfr_models = [[RandomForestRegressor() for i in range(60)] for j in range(n_folds)]\n",
    "\n",
    "cat_cv = Processor_cat.CV_sklearn(cat_models, n_folds = n_folds)\n",
    "xgb_cv = Processor_xgb.CV_sklearn(xgb_models, n_folds = n_folds)\n",
    "lgb_cv = Processor_lgbm.CV_sklearn(lgb_models, n_folds = n_folds)\n",
    "rfr_cv = Processor_rand.CV_sklearn(rfr_models, n_folds = n_folds)\n",
    "\n",
    "scores_lr_cat = cat_cv.train(X_trains_cat, y_trains_cat, verbose = 1)\n",
    "scores_lr_xgb = xgb_cv.train(X_trains_xgb, y_trains_xgb, verbose = 1)\n",
    "scores_lr_lgb = lgb_cv.train(X_trains_lgbm, y_trains_lgbm, verbose = 1)\n",
    "scores_lr_rfr = rfr_cv.train(X_trains_rand, y_trains_rand, verbose = 1)\n",
    "\n",
    "print(np.mean(scores_lr_cat))\n",
    "print(np.mean(scores_lr_xgb))\n",
    "print(np.mean(scores_lr_lgb))\n",
    "print(np.mean(scores_lr_rfr))"
   ]
  },
  {
   "cell_type": "code",
   "execution_count": 12,
   "id": "655c4eb8",
   "metadata": {},
   "outputs": [],
   "source": [
    "for idx, test in enumerate(X_tests_cat):\n",
    "    X_tests_cat[idx] = test.interpolate()\n",
    "    \n",
    "for idx, test in enumerate(X_tests_xgb):\n",
    "    X_tests_xgb[idx] = test.interpolate()\n",
    "\n",
    "for idx, test in enumerate(X_tests_lgbm):\n",
    "    X_tests_lgbm[idx] = test.interpolate()\n",
    "\n",
    "for idx, test in enumerate(X_tests_rand):\n",
    "    X_tests_rand[idx] = test.interpolate()"
   ]
  },
  {
   "cell_type": "code",
   "execution_count": 13,
   "id": "7e9ea99f",
   "metadata": {},
   "outputs": [],
   "source": [
    "test_pred = cat_cv.predict(X_tests_cat)\n",
    "test_pred += xgb_cv.predict(X_tests_xgb)\n",
    "test_pred += lgb_cv.predict(X_tests_lgbm)\n",
    "test_pred += rfr_cv.predict(X_tests_rand)"
   ]
  },
  {
   "cell_type": "code",
   "execution_count": 16,
   "id": "92ca6cb6",
   "metadata": {},
   "outputs": [],
   "source": [
    "submission = pd.read_csv('../data/sample_submission.csv')\n",
    "submission['answer'] = test_pred/4\n",
    "\n",
    "submission.to_csv('../submission/'+today+'_ensenble2.csv', index =False)"
   ]
  },
  {
   "cell_type": "code",
   "execution_count": null,
   "id": "e0a632e0",
   "metadata": {},
   "outputs": [],
   "source": [
    "RF_params = {\n",
    "    'n_estima'\n",
    "}"
   ]
  }
 ],
 "metadata": {
  "kernelspec": {
   "display_name": "Python 3",
   "language": "python",
   "name": "python3"
  },
  "language_info": {
   "codemirror_mode": {
    "name": "ipython",
    "version": 3
   },
   "file_extension": ".py",
   "mimetype": "text/x-python",
   "name": "python",
   "nbconvert_exporter": "python",
   "pygments_lexer": "ipython3",
   "version": "3.8.8"
  }
 },
 "nbformat": 4,
 "nbformat_minor": 5
}
