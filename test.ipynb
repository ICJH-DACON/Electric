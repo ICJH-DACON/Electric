{
 "cells": [
  {
   "cell_type": "code",
   "execution_count": 1,
   "id": "a419b27b",
   "metadata": {},
   "outputs": [
    {
     "name": "stdout",
     "output_type": "stream",
     "text": [
      "오늘 날짜 : 20210621\n"
     ]
    }
   ],
   "source": [
    "import numpy as np\n",
    "import pandas as pd\n",
    "\n",
    "# EDA\n",
    "import matplotlib.pyplot as plt\n",
    "import seaborn as sns\n",
    "\n",
    "# Learning algorithms\n",
    "import sklearn\n",
    "from sklearn.linear_model import *\n",
    "from sklearn.ensemble import RandomForestRegressor\n",
    "from sklearn.model_selection import train_test_split\n",
    "\n",
    "import lightgbm as lgb\n",
    "from xgboost import XGBRegressor\n",
    "from catboost import CatBoostRegressor\n",
    "\n",
    "from Processor import *\n",
    "\n",
    "import warnings\n",
    "warnings.filterwarnings('ignore')\n",
    "\n",
    "import datetime\n",
    "today = str(datetime.datetime.now().date()).replace(\"-\",\"\")\n",
    "print(\"오늘 날짜 : \" + today)"
   ]
  },
  {
   "cell_type": "code",
   "execution_count": 3,
   "id": "cef6eafc",
   "metadata": {},
   "outputs": [],
   "source": [
    "def SMAPE( true, pred):\n",
    "    return np.mean((np.abs(true - pred)) / (np.abs(true) + np.abs(pred))) * 100"
   ]
  },
  {
   "cell_type": "code",
   "execution_count": 19,
   "id": "076dbfb2",
   "metadata": {},
   "outputs": [],
   "source": [
    "['yesterday'] = y_train[0]"
   ]
  },
  {
   "cell_type": "code",
   "execution_count": 4,
   "id": "ff34793d",
   "metadata": {},
   "outputs": [
    {
     "data": {
      "text/plain": [
       "1.6263449515918813"
      ]
     },
     "execution_count": 4,
     "metadata": {},
     "output_type": "execute_result"
    }
   ],
   "source": [
    "best_data = pd.read_csv('../best_model.csv')\n",
    "best_data2 = pd.read_csv('../submission/20210620_ensenble_optuna.csv')\n",
    "\n",
    "\n",
    "bd  = np.array(best_data['answer'])\n",
    "bd2 = np.array(best_data2['answer'])\n",
    "\n",
    "SMAPE(bd,bd2)"
   ]
  },
  {
   "cell_type": "code",
   "execution_count": 3,
   "id": "8c800a5a",
   "metadata": {},
   "outputs": [],
   "source": [
    "x = RandomForestRegressor()"
   ]
  },
  {
   "cell_type": "code",
   "execution_count": 6,
   "id": "74ad3d62",
   "metadata": {},
   "outputs": [],
   "source": [
    "submission = pd.read_csv('../data/sample_submission.csv')\n",
    "submission['answer'] = (bd+bd2)/2\n",
    "\n",
    "submission.to_csv('../submission/'+today+'_bd_ensemble.csv', index =False)"
   ]
  },
  {
   "cell_type": "code",
   "execution_count": null,
   "id": "9b901b95",
   "metadata": {},
   "outputs": [],
   "source": [
    "RandomForestRegressor()"
   ]
  }
 ],
 "metadata": {
  "kernelspec": {
   "display_name": "Python 3",
   "language": "python",
   "name": "python3"
  },
  "language_info": {
   "codemirror_mode": {
    "name": "ipython",
    "version": 3
   },
   "file_extension": ".py",
   "mimetype": "text/x-python",
   "name": "python",
   "nbconvert_exporter": "python",
   "pygments_lexer": "ipython3",
   "version": "3.8.8"
  }
 },
 "nbformat": 4,
 "nbformat_minor": 5
}
